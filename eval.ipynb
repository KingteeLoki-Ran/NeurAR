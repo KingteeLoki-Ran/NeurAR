{
 "cells": [
  {
   "cell_type": "code",
   "execution_count": 3,
   "id": "c0bdceb5",
   "metadata": {},
   "outputs": [],
   "source": [
    "import numpy as np\n",
    "import pandas as pd\n",
    "# import seaborn as sns\n",
    "import sys\n",
    "# import statsmodels.api as sm\n",
    "import matplotlib.pyplot as plt\n",
    "# plt.style.use('seaborn-whitegrid')\n",
    "# %matplotlib inline"
   ]
  },
  {
   "cell_type": "code",
   "execution_count": 4,
   "id": "898232a6",
   "metadata": {},
   "outputs": [],
   "source": [
    "def read(path):\n",
    "    testdata = []\n",
    "    index = -1\n",
    "    with open(path) as f:\n",
    "        for line in f:\n",
    "            if \"current step is + \" in line:\n",
    "                index+=1\n",
    "                step_str = line.split(\" + \")[1]\n",
    "                step = int(step_str)\n",
    "                testdata.append([step])\n",
    "            if \"current img is + \" in line:\n",
    "                img_index_str = line.split(\" + \")[1]\n",
    "                img_index = int(img_index_str)\n",
    "                testdata[index].append(img_index)\n",
    "            if \"img loss is + \" in line:\n",
    "                img_loss_str = line.split(\" + \")[1]\n",
    "                img_loss = float(img_loss_str)\n",
    "                testdata[index].append(img_loss)\n",
    "            if \"loss_depth_un is + \" in line:\n",
    "                depth_loss_str = line.split(\" + \")[1]\n",
    "                depth_loss = float(depth_loss_str)\n",
    "                testdata[index].append(depth_loss)\n",
    "            if \"uncertainty sum is + \" in line:\n",
    "                uncertainty_str = line.split(\" + \")[1]\n",
    "                uncertainty = float(uncertainty_str)\n",
    "                testdata[index].append(uncertainty)\n",
    "            if \"final loss is + \" in line:\n",
    "                final_loss_str = line.split(\" + \")[1]\n",
    "                final_loss = float(final_loss_str)\n",
    "                testdata[index].append(final_loss)\n",
    "            if \"psnr is + \" in line:\n",
    "                psnr_str = line.split(\" + \")[1]\n",
    "                psnr = float(psnr_str)\n",
    "                testdata[index].append(psnr)\n",
    "            if \"ssim is + \" in line:\n",
    "                ssim_str = line.split(\" + \")[1]\n",
    "                ssim = float(ssim_str)\n",
    "                testdata[index].append(ssim)\n",
    "            if \"lpips is + \" in line:\n",
    "                lpips_str = line.split(\" + \")[1]\n",
    "                lpips = float(lpips_str)\n",
    "                testdata[index].append(lpips)\n",
    "    testdata = pd.DataFrame(testdata,columns=['step','img_index','img_loss','uncertainty','depth_loss','final_loss','psnr','ssim','lpips'])\n",
    "    return testdata"
   ]
  },
  {
   "cell_type": "code",
   "execution_count": 7,
   "id": "add49369",
   "metadata": {},
   "outputs": [
    {
     "data": {
      "text/html": [
       "<div>\n",
       "<style scoped>\n",
       "    .dataframe tbody tr th:only-of-type {\n",
       "        vertical-align: middle;\n",
       "    }\n",
       "\n",
       "    .dataframe tbody tr th {\n",
       "        vertical-align: top;\n",
       "    }\n",
       "\n",
       "    .dataframe thead th {\n",
       "        text-align: right;\n",
       "    }\n",
       "</style>\n",
       "<table border=\"1\" class=\"dataframe\">\n",
       "  <thead>\n",
       "    <tr style=\"text-align: right;\">\n",
       "      <th></th>\n",
       "      <th>img_index</th>\n",
       "      <th>img_loss</th>\n",
       "      <th>uncertainty</th>\n",
       "      <th>depth_loss</th>\n",
       "      <th>final_loss</th>\n",
       "      <th>psnr</th>\n",
       "      <th>ssim</th>\n",
       "      <th>lpips</th>\n",
       "    </tr>\n",
       "    <tr>\n",
       "      <th>step</th>\n",
       "      <th></th>\n",
       "      <th></th>\n",
       "      <th></th>\n",
       "      <th></th>\n",
       "      <th></th>\n",
       "      <th></th>\n",
       "      <th></th>\n",
       "      <th></th>\n",
       "    </tr>\n",
       "  </thead>\n",
       "  <tbody>\n",
       "    <tr>\n",
       "      <th>100000</th>\n",
       "      <td>101.5</td>\n",
       "      <td>776.154599</td>\n",
       "      <td>35342.855124</td>\n",
       "      <td>5739.139337</td>\n",
       "      <td>5749.605439</td>\n",
       "      <td>28.671377</td>\n",
       "      <td>0.907218</td>\n",
       "      <td>0.057366</td>\n",
       "    </tr>\n",
       "  </tbody>\n",
       "</table>\n",
       "</div>"
      ],
      "text/plain": [
       "        img_index    img_loss   uncertainty   depth_loss   final_loss  \\\n",
       "step                                                                    \n",
       "100000      101.5  776.154599  35342.855124  5739.139337  5749.605439   \n",
       "\n",
       "             psnr      ssim     lpips  \n",
       "step                                   \n",
       "100000  28.671377  0.907218  0.057366  "
      ]
     },
     "execution_count": 7,
     "metadata": {},
     "output_type": "execute_result"
    }
   ],
   "source": [
    "cabin = read('./logs/unity_uncertainty_cabin_v1/atestdata/cabin-0.5-around-sa.txt')\n",
    "cabin.groupby(\"step\").mean()"
   ]
  },
  {
   "cell_type": "code",
   "execution_count": null,
   "id": "290361a6",
   "metadata": {},
   "outputs": [],
   "source": []
  }
 ],
 "metadata": {
  "kernelspec": {
   "display_name": "Python 3 (ipykernel)",
   "language": "python",
   "name": "python3"
  },
  "language_info": {
   "codemirror_mode": {
    "name": "ipython",
    "version": 3
   },
   "file_extension": ".py",
   "mimetype": "text/x-python",
   "name": "python",
   "nbconvert_exporter": "python",
   "pygments_lexer": "ipython3",
   "version": "3.9.2"
  }
 },
 "nbformat": 4,
 "nbformat_minor": 5
}
